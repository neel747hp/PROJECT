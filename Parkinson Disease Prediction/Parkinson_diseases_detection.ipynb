{
 "cells": [
  {
   "cell_type": "markdown",
   "metadata": {},
   "source": [
    "# Parkinson Diseases Detection\n",
    "## By - Neel Patel"
   ]
  },
  {
   "cell_type": "markdown",
   "metadata": {},
   "source": [
    "### Importing The Libraries"
   ]
  },
  {
   "cell_type": "code",
   "execution_count": 1,
   "metadata": {},
   "outputs": [],
   "source": [
    "import pandas as pd\n",
    "import numpy as np"
   ]
  },
  {
   "cell_type": "markdown",
   "metadata": {},
   "source": [
    "### Importing the Dataset and doing some feature engineering"
   ]
  },
  {
   "cell_type": "code",
   "execution_count": 2,
   "metadata": {},
   "outputs": [],
   "source": [
    "df = pd.read_csv(\"D:/Course/Intern_Academy/archive/pk.csv\")\n",
    "loc = [1,2,3,4,5,6,7,8,9,10,11,12,13,14,15,16,18,19,20,21,22,23]\n",
    "X = df.iloc[:,loc].values\n",
    "y = df.iloc[:,17].values"
   ]
  },
  {
   "cell_type": "markdown",
   "metadata": {},
   "source": [
    "### Spliting the data into test & train the model"
   ]
  },
  {
   "cell_type": "code",
   "execution_count": 3,
   "metadata": {},
   "outputs": [],
   "source": [
    "from sklearn.model_selection import train_test_split\n",
    "X_train,X_test,y_train,y_test = train_test_split(X, y, test_size=0.2, random_state=0)"
   ]
  },
  {
   "cell_type": "markdown",
   "metadata": {},
   "source": [
    "### Feature scaling "
   ]
  },
  {
   "cell_type": "code",
   "execution_count": 4,
   "metadata": {},
   "outputs": [],
   "source": [
    "from sklearn.preprocessing import StandardScaler\n",
    "sc = StandardScaler()\n",
    "X_train = sc.fit_transform(X_train)\n",
    "X_test = sc.fit_transform(X_test)"
   ]
  },
  {
   "cell_type": "markdown",
   "metadata": {},
   "source": [
    "### Using Dimensionality Reduction applying Principle component analysis"
   ]
  },
  {
   "cell_type": "code",
   "execution_count": 5,
   "metadata": {},
   "outputs": [
    {
     "data": {
      "text/plain": [
       "array([0.61287927, 0.14211941])"
      ]
     },
     "execution_count": 5,
     "metadata": {},
     "output_type": "execute_result"
    }
   ],
   "source": [
    "#applying PCA\n",
    "from sklearn.decomposition import PCA\n",
    "pca = PCA(n_components= 2)\n",
    "X_train = pca.fit_transform(X_train)\n",
    "X_test = pca.fit_transform(X_test)\n",
    "\n",
    "var = pca.explained_variance_ratio_\n",
    "var"
   ]
  },
  {
   "cell_type": "code",
   "execution_count": 11,
   "metadata": {},
   "outputs": [
    {
     "data": {
      "text/plain": [
       "array([[-0.80298633, -2.19319317],\n",
       "       [-3.75247514, -0.4721004 ],\n",
       "       [-5.95101553, -0.2822844 ],\n",
       "       [-1.80407222,  1.0409641 ],\n",
       "       [-2.69630188, -1.85270092],\n",
       "       [ 4.00768468,  0.19687965],\n",
       "       [-0.69842337, -1.44753747],\n",
       "       [ 0.48691981, -0.34788835],\n",
       "       [-0.25210573, -2.10073274],\n",
       "       [ 5.99377362,  1.95653188],\n",
       "       [-2.36199757, -2.13671605],\n",
       "       [ 5.24964135, -1.64423125],\n",
       "       [ 0.92708198, -0.81313117],\n",
       "       [ 1.85195934,  0.05873281],\n",
       "       [-2.99195349,  2.80894374],\n",
       "       [-1.62512496, -0.4551651 ],\n",
       "       [ 1.51731042, -0.13540977],\n",
       "       [-3.80641071,  1.37932105],\n",
       "       [-5.01439766,  2.47099798],\n",
       "       [ 5.82135613,  4.42589603],\n",
       "       [ 3.1514763 , -2.1647326 ],\n",
       "       [-2.5529244 , -2.44490943],\n",
       "       [ 3.10517102,  0.69175384],\n",
       "       [ 5.17627052,  4.03202638],\n",
       "       [-4.74089045,  1.84697059],\n",
       "       [ 3.2323597 , -2.38544899],\n",
       "       [-0.08194514,  0.53998687],\n",
       "       [-4.75215424,  1.94513333],\n",
       "       [-2.51032061, -2.11028941],\n",
       "       [-4.7961458 ,  2.51858904],\n",
       "       [ 2.07833655,  1.70376755],\n",
       "       [ 1.77193547, -0.22400278],\n",
       "       [ 2.32731834, -0.36442416],\n",
       "       [-2.41463616, -0.08862935],\n",
       "       [ 8.89475905, -1.08943853],\n",
       "       [ 3.65044199, -1.23865786],\n",
       "       [-2.86502115, -0.79836517],\n",
       "       [-5.03746519, -0.43048754],\n",
       "       [ 2.26497148, -0.39601824]])"
      ]
     },
     "execution_count": 11,
     "metadata": {},
     "output_type": "execute_result"
    }
   ],
   "source": [
    "X_test"
   ]
  },
  {
   "cell_type": "markdown",
   "metadata": {},
   "source": [
    "### Model 1: KNN & its accuracy "
   ]
  },
  {
   "cell_type": "code",
   "execution_count": 6,
   "metadata": {},
   "outputs": [
    {
     "data": {
      "text/plain": [
       "0.9230769230769231"
      ]
     },
     "execution_count": 6,
     "metadata": {},
     "output_type": "execute_result"
    }
   ],
   "source": [
    "from sklearn.neighbors import KNeighborsClassifier\n",
    "classifier = KNeighborsClassifier(n_neighbors=8, p=2, metric=\"minkowski\")\n",
    "classifier.fit(X_train,y_train)\n",
    "\n",
    "y1_pred = classifier.predict(X_test)\n",
    "\n",
    "from sklearn.metrics import accuracy_score\n",
    "score = accuracy_score(y_test,y1_pred)\n",
    "score"
   ]
  },
  {
   "cell_type": "markdown",
   "metadata": {},
   "source": [
    "### Model 2: SVM & its accuracy"
   ]
  },
  {
   "cell_type": "code",
   "execution_count": 7,
   "metadata": {},
   "outputs": [
    {
     "data": {
      "text/plain": [
       "0.8974358974358975"
      ]
     },
     "execution_count": 7,
     "metadata": {},
     "output_type": "execute_result"
    }
   ],
   "source": [
    "from sklearn.svm import SVC\n",
    "classif = SVC()\n",
    "classif.fit(X_train,y_train)\n",
    "\n",
    "y2_pred = classif.predict(X_test)\n",
    "\n",
    "sc1 = accuracy_score(y_test,y2_pred)\n",
    "sc1"
   ]
  },
  {
   "cell_type": "markdown",
   "metadata": {},
   "source": [
    "### Model 3: Random Forest Classifier "
   ]
  },
  {
   "cell_type": "code",
   "execution_count": 8,
   "metadata": {},
   "outputs": [
    {
     "data": {
      "text/plain": [
       "0.8717948717948718"
      ]
     },
     "execution_count": 8,
     "metadata": {},
     "output_type": "execute_result"
    }
   ],
   "source": [
    "from sklearn.ensemble import RandomForestClassifier\n",
    "classi = RandomForestClassifier(n_estimators=16, criterion=\"entropy\", random_state=0)\n",
    "classi.fit(X_train,y_train)\n",
    "\n",
    "y3_pred = classi.predict(X_test)\n",
    "\n",
    "from sklearn.metrics import accuracy_score, confusion_matrix\n",
    "score = accuracy_score(y_test,y3_pred)\n",
    "score"
   ]
  },
  {
   "cell_type": "code",
   "execution_count": 9,
   "metadata": {},
   "outputs": [
    {
     "data": {
      "text/plain": [
       "array([[ 9,  1],\n",
       "       [ 2, 27]], dtype=int64)"
      ]
     },
     "execution_count": 9,
     "metadata": {},
     "output_type": "execute_result"
    }
   ],
   "source": [
    "cm = confusion_matrix(y_test,y1_pred)\n",
    "cm"
   ]
  },
  {
   "cell_type": "code",
   "execution_count": 10,
   "metadata": {},
   "outputs": [
    {
     "data": {
      "text/html": [
       "<div>\n",
       "<style scoped>\n",
       "    .dataframe tbody tr th:only-of-type {\n",
       "        vertical-align: middle;\n",
       "    }\n",
       "\n",
       "    .dataframe tbody tr th {\n",
       "        vertical-align: top;\n",
       "    }\n",
       "\n",
       "    .dataframe thead th {\n",
       "        text-align: right;\n",
       "    }\n",
       "</style>\n",
       "<table border=\"1\" class=\"dataframe\">\n",
       "  <thead>\n",
       "    <tr style=\"text-align: right;\">\n",
       "      <th></th>\n",
       "      <th>Model</th>\n",
       "      <th>Accuray</th>\n",
       "    </tr>\n",
       "  </thead>\n",
       "  <tbody>\n",
       "    <tr>\n",
       "      <th>0</th>\n",
       "      <td>KNN</td>\n",
       "      <td>92.30%</td>\n",
       "    </tr>\n",
       "    <tr>\n",
       "      <th>1</th>\n",
       "      <td>SVM</td>\n",
       "      <td>89.74%</td>\n",
       "    </tr>\n",
       "    <tr>\n",
       "      <th>2</th>\n",
       "      <td>Random Forest</td>\n",
       "      <td>87.17%</td>\n",
       "    </tr>\n",
       "  </tbody>\n",
       "</table>\n",
       "</div>"
      ],
      "text/plain": [
       "           Model Accuray\n",
       "0            KNN  92.30%\n",
       "1            SVM  89.74%\n",
       "2  Random Forest  87.17%"
      ]
     },
     "execution_count": 10,
     "metadata": {},
     "output_type": "execute_result"
    }
   ],
   "source": [
    "data = {'Model':['KNN', 'SVM', 'Random Forest'],\n",
    "        'Accuray':[\"92.30%\",\"89.74%\",\"87.17%\"]}\n",
    "df1 = pd.DataFrame(data)\n",
    "df1"
   ]
  },
  {
   "cell_type": "markdown",
   "metadata": {},
   "source": [
    "## KNN Model is the Best fitted model in Parkinson diseases detection"
   ]
  },
  {
   "cell_type": "code",
   "execution_count": 15,
   "metadata": {},
   "outputs": [
    {
     "name": "stdout",
     "output_type": "stream",
     "text": [
      "The Person got disease  1\n"
     ]
    }
   ],
   "source": [
    "Input = [[4.00768468,  0.19687965]]\n",
    "Output = classifier.predict(Input)\n",
    "print(\"The Person got disease \",Output[0])"
   ]
  },
  {
   "cell_type": "code",
   "execution_count": null,
   "metadata": {},
   "outputs": [],
   "source": []
  }
 ],
 "metadata": {
  "kernelspec": {
   "display_name": "Python 3",
   "language": "python",
   "name": "python3"
  },
  "language_info": {
   "codemirror_mode": {
    "name": "ipython",
    "version": 3
   },
   "file_extension": ".py",
   "mimetype": "text/x-python",
   "name": "python",
   "nbconvert_exporter": "python",
   "pygments_lexer": "ipython3",
   "version": "3.8.3"
  }
 },
 "nbformat": 4,
 "nbformat_minor": 4
}
